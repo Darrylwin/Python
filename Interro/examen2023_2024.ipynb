{
  "nbformat": 4,
  "nbformat_minor": 0,
  "metadata": {
    "colab": {
      "provenance": []
    },
    "kernelspec": {
      "name": "python3",
      "display_name": "Python 3"
    },
    "language_info": {
      "name": "python"
    }
  },
  "cells": [
    {
      "cell_type": "markdown",
      "source": [
        "**Exercice 1:** Examen - CISD - 2023"
      ],
      "metadata": {
        "id": "7yO6XsdvUzGL"
      }
    },
    {
      "cell_type": "markdown",
      "source": [
        "On considère le dictionnaire suivant dont les clés sont les noms des élèves et les valeurs des clés sont les moyennes générales obtenues en passant l'examen final dans une classe de première année en informatique."
      ],
      "metadata": {
        "id": "c8D17qbiPXo2"
      }
    },
    {
      "cell_type": "code",
      "execution_count": 2,
      "metadata": {
        "id": "Gqb-12fFOq92"
      },
      "outputs": [],
      "source": [
        "# Executez cette cellule pour créer le dictionnaire\n",
        "\n",
        "etudiants = {\n",
        "    \"etudiant_1\" : 13,\n",
        "    \"etudiant_2\" : 17,\n",
        "    \"etudiant_3\" : 9,\n",
        "    \"etudiant_4\" : 15,\n",
        "    \"etudiant_5\" : 8,\n",
        "    \"etudiant_6\" : 14,\n",
        "    \"etudiant_7\" : 16,\n",
        "    \"etudiant_8\" : 12,\n",
        "\t\t\"etudiant_9\" : 13,\n",
        "    \"etudiant_10\" : 15,\n",
        "    \"etudiant_11\" : 14,\n",
        "    \"etudiant_12\" : 9,\n",
        "\t\t\"etudiant_13\" : 10,\n",
        "    \"etudiant_14\" : 12,\n",
        "    \"etudiant_15\" : 13,\n",
        "    \"etudiant_16\" : 7,\n",
        "\t\t\"etudiant_17\" : 12,\n",
        "    \"etudiant_18\" : 15,\n",
        "    \"etudiant_19\" : 9,\n",
        "    \"etudiant_20\" : 17\n",
        "}"
      ]
    },
    {
      "cell_type": "code",
      "source": [
        "print(etudiants)\n",
        "\n",
        "assert len(etudiants) == 20"
      ],
      "metadata": {
        "colab": {
          "base_uri": "https://localhost:8080/"
        },
        "collapsed": true,
        "id": "ivyzKkw_QcHl",
        "outputId": "322dbcc0-6b2c-4fc3-f587-fd45e2c0b2ff"
      },
      "execution_count": null,
      "outputs": [
        {
          "output_type": "stream",
          "name": "stdout",
          "text": [
            "{'etudiant_1': 13, 'etudiant_2': 17, 'etudiant_3': 9, 'etudiant_4': 15, 'etudiant_5': 8, 'etudiant_6': 14, 'etudiant_7': 16, 'etudiant_8': 12, 'etudiant_9': 13, 'etudiant_10': 15, 'etudiant_11': 14, 'etudiant_112': 9, 'etudiant_13': 10, 'etudiant_14': 12, 'etudiant_15': 13, 'etudiant_16': 7, 'etudiant_17': 12, 'etudiant_18': 15, 'etudiant_19': 9, 'etudiant_20': 17}\n"
          ]
        }
      ]
    },
    {
      "cell_type": "code",
      "source": [
        "# 1. Afficher tous les étudiants de ce dictionnaire sous forme d'une liste. (1pt)\n",
        "\n",
        "# Votre code"
      ],
      "metadata": {
        "id": "n2yYUr2fQ7Bs"
      },
      "execution_count": null,
      "outputs": []
    },
    {
      "cell_type": "code",
      "source": [
        "# 2. Définir deux dictionnaires vides etudiantAdmis et etudiantNonAdmis. (0,5pt)\n",
        "\n",
        "# Votre code"
      ],
      "metadata": {
        "id": "SaG0qQvhRBvw"
      },
      "execution_count": null,
      "outputs": []
    },
    {
      "cell_type": "code",
      "source": [
        "# 3. Ecrire un programme Python qui partitionne ce dictionnaire en deux sous dictionnaires:\n",
        "#   3.1 Un dictionnaire nommée etudiantAdmis  dont les clés sont les étudiants admis et les valeurs des clés\n",
        "#       sont les moyennes obtenues (moyenne supérieur ou égale à 10 ). (1pt)\n",
        "\n",
        "# Votre code"
      ],
      "metadata": {
        "id": "xPNQNfecRSe3"
      },
      "execution_count": null,
      "outputs": []
    },
    {
      "cell_type": "code",
      "source": [
        "#  3.2 Un autre dictionnaire nommée etudiantNonAdmis dont les clés sont les étudiants non admis\n",
        "#       et les valeurs des clés sont les moyennes obtenues (moyenne inférieur ou égale à 10). (1pt)\n",
        "\n",
        "# Votre code"
      ],
      "metadata": {
        "id": "07RPp9ioR_5y"
      },
      "execution_count": null,
      "outputs": []
    },
    {
      "cell_type": "code",
      "source": [
        "# 4. Afficher le nombre d'étudiants admis et le nombre d'étudiants non admis. (1pt)"
      ],
      "metadata": {
        "id": "RtnMeCMgSr0F"
      },
      "execution_count": null,
      "outputs": []
    },
    {
      "cell_type": "code",
      "source": [
        "# 5. Ecrire une fonction dénommée moyenneNote(liste) prenant en paramètre une liste et qui\n",
        "#     retourne la moyenne des éléments de la liste. (2pts)"
      ],
      "metadata": {
        "id": "sF5MR_uuTLx0"
      },
      "execution_count": null,
      "outputs": []
    },
    {
      "cell_type": "code",
      "source": [
        "# 6. En se servant de la fonction moyenneNote écrite à la question 5), écrire un programme\n",
        "# Python qui regroupe dans un dictionnaire etudiantMoyen, les étudiants\n",
        "# qui ont une moyenne supérieure à la moyenne de la classe. (2,5pts)"
      ],
      "metadata": {
        "id": "Sj-Q7iuRTcjI"
      },
      "execution_count": null,
      "outputs": []
    },
    {
      "cell_type": "code",
      "source": [
        "# 7. Trier les dictionnaires obtenus à la question 6 par ordre croissant (Ordre de mérite)\n",
        "# et stocker les resultats dans deux nouveaux dictionnaires. (2pts)"
      ],
      "metadata": {
        "id": "vtL12hxET9e-"
      },
      "execution_count": null,
      "outputs": []
    },
    {
      "cell_type": "code",
      "source": [
        "# 8. Afficher les données des dictionnaires obtenus à la question 7 de maniere conviviale\n",
        "# avec les denominations 1er/1re, 2e, 3e, etc. (2pts)"
      ],
      "metadata": {
        "id": "QHN7FhkzTlpU"
      },
      "execution_count": null,
      "outputs": []
    },
    {
      "cell_type": "code",
      "source": [
        "# 9 . Reprendre les question 7 et 8 dans en faisant le tri dans l'ordre inverse (4pts)"
      ],
      "metadata": {
        "id": "6NHRO7tDYyWH"
      },
      "execution_count": null,
      "outputs": []
    },
    {
      "cell_type": "markdown",
      "source": [
        "**Exercice 2:** Examen - CISD - 2024"
      ],
      "metadata": {
        "id": "kBvWhxF0VHce"
      }
    },
    {
      "cell_type": "markdown",
      "source": [
        "On considère le dictionnaire suivant dont les clés sont les noms des élèves et les valeurs des clés sont constituées du sexe et des moyennes générales obtenues par les élèves en passant l'examen final dans une classe de première année en informatique."
      ],
      "metadata": {
        "id": "sahJFsaKVPO4"
      }
    },
    {
      "cell_type": "code",
      "source": [
        "# !!! Executez cette cellule pour créer le dictionnaire !!!\n",
        "\n",
        "etudiants = {\n",
        "    \"Alice\": {\"sexe\": \"F\", \"moyenne\": 8.4},\n",
        "    \"Bob\": {\"sexe\": \"M\", \"moyenne\": 5.7},\n",
        "    \"Charlie\": {\"sexe\": \"M\", \"moyenne\": 14.0},\n",
        "    \"Diana\": {\"sexe\": \"F\", \"moyenne\": 13.5},\n",
        "    \"Eve\": {\"sexe\": \"F\", \"moyenne\": 7.3},\n",
        "    \"Frank\": {\"sexe\": \"M\", \"moyenne\": 6.5},\n",
        "    \"Grace\": {\"sexe\": \"F\", \"moyenne\": 14.5},\n",
        "    \"Hank\": {\"sexe\": \"M\", \"moyenne\": 10.0},\n",
        "    \"Ivy\": {\"sexe\": \"F\", \"moyenne\": 5.6},\n",
        "    \"Jack\": {\"sexe\": \"M\", \"moyenne\": 13.0},\n",
        "    \"Kelly\": {\"sexe\": \"F\", \"moyenne\": 5.4},\n",
        "    \"Leo\": {\"sexe\": \"M\", \"moyenne\": 12.5},\n",
        "    \"Mona\": {\"sexe\": \"F\", \"moyenne\": 14.0},\n",
        "    \"Nate\": {\"sexe\": \"M\", \"moyenne\": 5.0},\n",
        "    \"Olivia\": {\"sexe\": \"F\", \"moyenne\": 15.8},\n",
        "    \"Paul\": {\"sexe\": \"M\", \"moyenne\": 9.5},\n",
        "    \"Quinn\": {\"sexe\": \"F\", \"moyenne\": 8.9},\n",
        "    \"Rick\": {\"sexe\": \"M\", \"moyenne\": 9.7},\n",
        "    \"Sara\": {\"sexe\": \"F\", \"moyenne\": 17.5},\n",
        "    \"Tom\": {\"sexe\": \"M\", \"moyenne\": 8.3},\n",
        "}"
      ],
      "metadata": {
        "id": "Ywt1KcU9VfbZ"
      },
      "execution_count": null,
      "outputs": []
    },
    {
      "cell_type": "code",
      "source": [
        "print(etudiants)\n",
        "\n",
        "assert len(etudiants) == 20"
      ],
      "metadata": {
        "colab": {
          "base_uri": "https://localhost:8080/"
        },
        "collapsed": true,
        "id": "aJi1soCOYYk3",
        "outputId": "1d9acac3-c619-45fd-a8d8-98de629f5d4d"
      },
      "execution_count": null,
      "outputs": [
        {
          "output_type": "stream",
          "name": "stdout",
          "text": [
            "{'Alice': {'sexe': 'F', 'moyenne': 8.4}, 'Bob': {'sexe': 'M', 'moyenne': 5.7}, 'Charlie': {'sexe': 'M', 'moyenne': 14.0}, 'Diana': {'sexe': 'F', 'moyenne': 13.5}, 'Eve': {'sexe': 'F', 'moyenne': 7.3}, 'Frank': {'sexe': 'M', 'moyenne': 6.5}, 'Grace': {'sexe': 'F', 'moyenne': 14.5}, 'Hank': {'sexe': 'M', 'moyenne': 10.0}, 'Ivy': {'sexe': 'F', 'moyenne': 5.6}, 'Jack': {'sexe': 'M', 'moyenne': 13.0}, 'Kelly': {'sexe': 'F', 'moyenne': 5.4}, 'Leo': {'sexe': 'M', 'moyenne': 12.5}, 'Mona': {'sexe': 'F', 'moyenne': 14.0}, 'Nate': {'sexe': 'M', 'moyenne': 5.0}, 'Olivia': {'sexe': 'F', 'moyenne': 15.8}, 'Paul': {'sexe': 'M', 'moyenne': 9.5}, 'Quinn': {'sexe': 'F', 'moyenne': 8.9}, 'Rick': {'sexe': 'M', 'moyenne': 9.7}, 'Sara': {'sexe': 'F', 'moyenne': 17.5}, 'Tom': {'sexe': 'M', 'moyenne': 8.3}}\n"
          ]
        }
      ]
    },
    {
      "cell_type": "markdown",
      "source": [
        "Répondre aux questions suivantes:"
      ],
      "metadata": {
        "id": "0af13fnNaNnB"
      }
    },
    {
      "cell_type": "code",
      "source": [
        "# 1. Afficher la liste des noms des étudiants"
      ],
      "metadata": {
        "id": "a9GJzLcIaV_q"
      },
      "execution_count": null,
      "outputs": []
    },
    {
      "cell_type": "code",
      "source": [
        "# 2. Afficher de maniere conviviale le nom et le sexe de chaque étudiant accompagné sa moyenne générale"
      ],
      "metadata": {
        "id": "ok7yXSSha9U9"
      },
      "execution_count": null,
      "outputs": []
    },
    {
      "cell_type": "code",
      "source": [
        "# 3. Écrivez une fonction qui calcule et retourne la moyenne générale de la classe."
      ],
      "metadata": {
        "id": "JP3984wpbS-h"
      },
      "execution_count": null,
      "outputs": []
    },
    {
      "cell_type": "code",
      "source": [
        "# 4. Écrivez une fonction qui affiche le nombre d’étudiants de chaque sexe"
      ],
      "metadata": {
        "id": "brQNWip7bZo0"
      },
      "execution_count": null,
      "outputs": []
    },
    {
      "cell_type": "code",
      "source": [
        "# 5. Écrivez une fonction qui permet de trouver l’étudiant avec la meilleure moyenne"
      ],
      "metadata": {
        "id": "da8dlACkbfwt"
      },
      "execution_count": null,
      "outputs": []
    },
    {
      "cell_type": "code",
      "source": [
        "# 6. Écrivez une fonction qui retourne la moyenne générale des étudiants de chaque sexe"
      ],
      "metadata": {
        "id": "vRL6voOHbj9-"
      },
      "execution_count": null,
      "outputs": []
    },
    {
      "cell_type": "code",
      "source": [
        "# 7. Écrivez une fonction affiche les noms des étudiants triés par ordre alphabétique"
      ],
      "metadata": {
        "id": "FlUoZ-dNcbnO"
      },
      "execution_count": null,
      "outputs": []
    },
    {
      "cell_type": "code",
      "source": [
        "# 8. Écrivez une fonction qui retourne une liste des noms des étudiants ayant une moyenne inférieure à 10."
      ],
      "metadata": {
        "id": "B7zm-tzhcocJ"
      },
      "execution_count": null,
      "outputs": []
    },
    {
      "cell_type": "code",
      "source": [
        "# 9. Écrivez une fonction qui calcule et retourne la moyenne générale de la classe."
      ],
      "metadata": {
        "id": "r23bpHNUc9Ie"
      },
      "execution_count": null,
      "outputs": []
    },
    {
      "cell_type": "code",
      "source": [
        "# 10. Écrivez une fonction qui trouve et retourne le nom de l'étudiant avec\n",
        "# la meilleure moyenne et celui avec la pire moyenne."
      ],
      "metadata": {
        "id": "bF-9zQHodTQK"
      },
      "execution_count": null,
      "outputs": []
    },
    {
      "cell_type": "code",
      "source": [
        "# 11. Écrivez une fonction qui retourne une liste des étudiants classés par moyenne décroissante."
      ],
      "metadata": {
        "id": "JOnRR-jJdbK_"
      },
      "execution_count": null,
      "outputs": []
    },
    {
      "cell_type": "code",
      "source": [
        "# 12. Écrivez une fonction qui permet d'ajouter un nouvel étudiant au dictionnaire."
      ],
      "metadata": {
        "id": "HAvC_M4QdscW"
      },
      "execution_count": null,
      "outputs": []
    },
    {
      "cell_type": "code",
      "source": [
        "# 13. Écrivez une fonction qui permet de mettre à jour la moyenne d'un étudiant\n",
        "# en spécifiant son nom et sa nouvelle moyenne."
      ],
      "metadata": {
        "id": "5IIYcQXId0vq"
      },
      "execution_count": null,
      "outputs": []
    },
    {
      "cell_type": "code",
      "source": [
        "# 14. Répartition des étudiants par tranche de notes:\n",
        "# Écrivez une fonction qui retourne la répartition des étudiants dans des tranches de notes\n",
        "#  par exemple: 0-5, 5-10, 10-15, 15-20. Les tranches obtenues doivent etre des dictionnaires."
      ],
      "metadata": {
        "id": "kNpsdf_yd6u6"
      },
      "execution_count": null,
      "outputs": []
    },
    {
      "cell_type": "code",
      "source": [
        "# 15. Simuler l'ajout de bonus: Écrivez une fonction qui ajoute un certain bonus à la moyenne de chaque étudiant\n",
        "#  (sans dépasser 20) et retourne le nouveau dictionnaire.\n"
      ],
      "metadata": {
        "id": "lYBxd2n-eOwt"
      },
      "execution_count": null,
      "outputs": []
    },
    {
      "cell_type": "code",
      "source": [
        "# 16. Analyser les différences de moyennes par sexe: Écrivez une fonction qui\n",
        "# calcule les différences de moyennes entre les sexes et analyse la répartition des notes.\n",
        "# Le fonction doit retourner un dictionnaire sous le format suivant:\n",
        "{\n",
        "  \"Moyenne filles\": '< moyenne des filles >',\n",
        "  \"Moyenne garçons\": '< moyenne des garcons >',\n",
        "  \"Différence\": '< difference >'\n",
        "}"
      ],
      "metadata": {
        "colab": {
          "base_uri": "https://localhost:8080/"
        },
        "collapsed": true,
        "id": "JQQjv8lvegr7",
        "outputId": "fa0eedc1-f9c9-4d93-9000-655d079d472f"
      },
      "execution_count": null,
      "outputs": [
        {
          "output_type": "execute_result",
          "data": {
            "text/plain": [
              "{'Moyenne filles': '< moyenne des filles >',\n",
              " 'Moyenne garçons': '< moyenne des garcons >',\n",
              " 'Différence': '< difference >'}"
            ]
          },
          "metadata": {},
          "execution_count": 33
        }
      ]
    },
    {
      "cell_type": "code",
      "source": [
        "# 17. Suppression d'un étudiant : Écrivez une fonction qui permet de supprimer\n",
        "# un étudiant du dictionnaire en spécifiant son nom."
      ],
      "metadata": {
        "id": "AXOSKS60fcOm"
      },
      "execution_count": null,
      "outputs": []
    },
    {
      "cell_type": "code",
      "source": [
        "# 18. Écrivez une fonction qui retourne une liste des étudiants classés par moyenne croissante."
      ],
      "metadata": {
        "id": "-vV1BlPZfjvP"
      },
      "execution_count": null,
      "outputs": []
    },
    {
      "cell_type": "code",
      "source": [
        "# 19. Liste des étudiants ayant une moyenne supérieure à un certain seuil :\n",
        "# Écrivez une fonction qui retourne une liste des noms des étudiants\n",
        "# ayant une moyenne supérieure à un seuil donné."
      ],
      "metadata": {
        "id": "_RWoEypmfuyG"
      },
      "execution_count": null,
      "outputs": []
    },
    {
      "cell_type": "code",
      "source": [
        "# 20. Afficher les étudiants par ordre de mérite dans les deux sens\n",
        "#  (ordre croissant et décroissant) après l'application d'un bonus de 2 points (sans dépasser 20).\n",
        "# Utilisez les fonctions défines en 11, 15 et 18"
      ],
      "metadata": {
        "id": "nOpTvT14f1Z2"
      },
      "execution_count": null,
      "outputs": []
    },
    {
      "cell_type": "code",
      "source": [
        "# 21. Reprendre toutes les questions de cet exercice avec cette nouvelle structure du dictionnaire etudiants\n",
        "\n",
        "etudiants = {\n",
        "    \"Alice\": (\"F\", 15.5),\n",
        "    \"Bob\": (\"M\", 6.9),\n",
        "    \"Charlie\": (\"M\", 14.0),\n",
        "    \"Diana\": (\"F\", 13.5),\n",
        "    \"Eve\": (\"F\", 7.3),\n",
        "    \"Frank\": (\"M\", 11.5),\n",
        "    \"Grace\": (\"F\", 7.0),\n",
        "    \"Hank\": (\"M\", 6.8),\n",
        "    \"Ivy\": (\"F\", 17.0),\n",
        "    \"Jack\": (\"M\", 8.8),\n",
        "    \"Kelly\": (\"F\", 15.0),\n",
        "    \"Leo\": (\"M\", 8.9),\n",
        "    \"Mona\": (\"F\", 7.9),\n",
        "    \"Nate\": (\"M\", 9.1),\n",
        "    \"Olivia\": (\"F\", 9.5),\n",
        "    \"Paul\": (\"M\", 5.7),\n",
        "    \"Quinn\": (\"F\", 5.8),\n",
        "    \"Rick\": (\"M\", 11.8),\n",
        "    \"Sara\": (\"F\", 17.5),\n",
        "    \"Tom\": (\"M\", 12.9),\n",
        "}\n"
      ],
      "metadata": {
        "id": "KHqrOxRGEcq9"
      },
      "execution_count": null,
      "outputs": []
    },
    {
      "cell_type": "code",
      "source": [
        "print(etudiants)\n",
        "\n",
        "assert len(etudiants) == 20"
      ],
      "metadata": {
        "colab": {
          "base_uri": "https://localhost:8080/"
        },
        "id": "NIOPVmezFIyC",
        "outputId": "570aa48a-5bfd-438b-96f9-546a7d9997c9",
        "collapsed": true
      },
      "execution_count": null,
      "outputs": [
        {
          "output_type": "stream",
          "name": "stdout",
          "text": [
            "{'Alice': ('F', 15.5), 'Bob': ('M', 6.9), 'Charlie': ('M', 14.0), 'Diana': ('F', 13.5), 'Eve': ('F', 7.3), 'Frank': ('M', 11.5), 'Grace': ('F', 7.0), 'Hank': ('M', 6.8), 'Ivy': ('F', 17.0), 'Jack': ('M', 8.8), 'Kelly': ('F', 15.0), 'Leo': ('M', 8.9), 'Mona': ('F', 7.9), 'Nate': ('M', 9.1), 'Olivia': ('F', 9.5), 'Paul': ('M', 5.7), 'Quinn': ('F', 5.8), 'Rick': ('M', 11.8), 'Sara': ('F', 17.5), 'Tom': ('M', 12.9)}\n"
          ]
        }
      ]
    }
  ]
}